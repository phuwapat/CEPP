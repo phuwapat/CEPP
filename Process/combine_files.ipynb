{
 "cells": [
  {
   "cell_type": "code",
   "execution_count": 1,
   "id": "df96c123",
   "metadata": {},
   "outputs": [
    {
     "ename": "ModuleNotFoundError",
     "evalue": "No module named 'pandas'",
     "output_type": "error",
     "traceback": [
      "\u001b[31m---------------------------------------------------------------------------\u001b[39m",
      "\u001b[31mModuleNotFoundError\u001b[39m                       Traceback (most recent call last)",
      "\u001b[36mCell\u001b[39m\u001b[36m \u001b[39m\u001b[32mIn[1]\u001b[39m\u001b[32m, line 1\u001b[39m\n\u001b[32m----> \u001b[39m\u001b[32m1\u001b[39m \u001b[38;5;28;01mimport\u001b[39;00m\u001b[38;5;250m \u001b[39m\u001b[34;01mpandas\u001b[39;00m\u001b[38;5;250m \u001b[39m\u001b[38;5;28;01mas\u001b[39;00m\u001b[38;5;250m \u001b[39m\u001b[34;01mpd\u001b[39;00m\n\u001b[32m      2\u001b[39m \u001b[38;5;28;01mimport\u001b[39;00m\u001b[38;5;250m \u001b[39m\u001b[34;01mglob\u001b[39;00m\n\u001b[32m      3\u001b[39m \u001b[38;5;28;01mimport\u001b[39;00m\u001b[38;5;250m \u001b[39m\u001b[34;01mos\u001b[39;00m\n",
      "\u001b[31mModuleNotFoundError\u001b[39m: No module named 'pandas'"
     ]
    }
   ],
   "source": [
    "import pandas as pd\n",
    "import glob\n",
    "import os"
   ]
  },
  {
   "cell_type": "code",
   "execution_count": null,
   "id": "3ffd7371",
   "metadata": {},
   "outputs": [
    {
     "name": "stdout",
     "output_type": "stream",
     "text": [
      "รวมไฟล์ทั้งหมดเสร็จแล้ว ✅ บันทึกที่: D:\\coding\\CEPP\\combined_output\\all_combined.csv\n"
     ]
    }
   ],
   "source": [
    "base_folder = r\"D:\\coding\\CEPP\\2025-{}\"\n",
    "output_path = r\"D:\\coding\\CEPP\\combined_output\\all_combined.csv\"\n",
    "os.makedirs(os.path.dirname(output_path), exist_ok=True)\n",
    "\n",
    "all_dfs = []\n",
    "\n",
    "for i in range(1, 81):\n",
    "    file_name = f\"Kickstarter{str(i).zfill(3)}.csv\"\n",
    "\n",
    "    # for month in range(1, 8):\n",
    "    month = 1\n",
    "    folder_path = base_folder.format(str(month).zfill(2))\n",
    "    file_path = os.path.join(folder_path, file_name)\n",
    "\n",
    "    if os.path.exists(file_path):\n",
    "        df = pd.read_csv(file_path)\n",
    "        df[\"source_month\"] = f\"2025-{str(month).zfill(2)}\"\n",
    "        df[\"source_file\"] = file_name\n",
    "        all_dfs.append(df)\n",
    "\n",
    "if all_dfs:\n",
    "    combined_df = pd.concat(all_dfs, ignore_index=True)\n",
    "    combined_df.to_csv(output_path, index=False)\n",
    "    print(f\"รวมไฟล์ทั้งหมดเสร็จแล้ว ✅ บันทึกที่: {output_path}\")\n",
    "else:\n",
    "    print(\"ไม่พบไฟล์ csv ที่จะรวม ❌\")\n"
   ]
  },
  {
   "cell_type": "code",
   "execution_count": null,
   "id": "b5ddf635",
   "metadata": {},
   "outputs": [
    {
     "name": "stdout",
     "output_type": "stream",
     "text": [
      "1596098\n"
     ]
    }
   ],
   "source": [
    "print(len(combined_df))"
   ]
  }
 ],
 "metadata": {
  "kernelspec": {
   "display_name": ".venv",
   "language": "python",
   "name": "python3"
  },
  "language_info": {
   "codemirror_mode": {
    "name": "ipython",
    "version": 3
   },
   "file_extension": ".py",
   "mimetype": "text/x-python",
   "name": "python",
   "nbconvert_exporter": "python",
   "pygments_lexer": "ipython3",
   "version": "3.13.6"
  }
 },
 "nbformat": 4,
 "nbformat_minor": 5
}
